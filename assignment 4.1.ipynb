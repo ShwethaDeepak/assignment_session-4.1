{
 "cells": [
  {
   "cell_type": "code",
   "execution_count": 2,
   "metadata": {},
   "outputs": [
    {
     "name": "stdout",
     "output_type": "stream",
     "text": [
      "enter the first side3\n",
      "enter the second side4\n",
      "enter the third side5\n",
      "the sides of the triangle are 3 4 5\n",
      "6.0\n"
     ]
    }
   ],
   "source": [
    "# Problem Statement1:\n",
    "class Area:\n",
    "    def get_input(self):\n",
    "        global a,b,c\n",
    "        #print(\"enter the sides of a triangle\")\n",
    "        a = input(\"enter the first side\")\n",
    "        b = input(\"enter the second side\")\n",
    "        c = input(\"enter the third side\")\n",
    "        print(\"the sides of the triangle are\",a,b,c)\n",
    "\n",
    "class Calculate_area(Area):\n",
    "       def calculate(self):\n",
    "            s = (int(a) + int(b) + int(c)) / 2\n",
    "            triangle_area = (s*(s-int(a))*(s-int(b))*(s-int(c))) ** 0.5\n",
    "            print(triangle_area)\n",
    "    \n",
    "        \n",
    "A = Calculate_area()\n",
    "A.get_input()\n",
    "A.calculate()"
   ]
  },
  {
   "cell_type": "code",
   "execution_count": 3,
   "metadata": {},
   "outputs": [
    {
     "name": "stdout",
     "output_type": "stream",
     "text": [
      "['bhghhjhnhbhy']\n"
     ]
    }
   ],
   "source": [
    "# Problem Statement 2 :\n",
    "\n",
    "def filter_long_words(word_list,length):\n",
    "    long_word = []\n",
    "    long_word_list = [len(x) for x in word_list]\n",
    "    #print(long_word_list)\n",
    "    for y in long_word_list:\n",
    "        if(y > length):\n",
    "            long_word.append(word_list[long_word_list.index(y)])\n",
    "    print(long_word)\n",
    "alist = [\"x\",\"ded\",\"grkktfdjhb\",\"bhghhjhnhbhy\"]\n",
    "filter_long_words(alist,10)"
   ]
  },
  {
   "cell_type": "code",
   "execution_count": null,
   "metadata": {
    "collapsed": true
   },
   "outputs": [],
   "source": []
  }
 ],
 "metadata": {
  "kernelspec": {
   "display_name": "Python 3",
   "language": "python",
   "name": "python3"
  },
  "language_info": {
   "codemirror_mode": {
    "name": "ipython",
    "version": 3
   },
   "file_extension": ".py",
   "mimetype": "text/x-python",
   "name": "python",
   "nbconvert_exporter": "python",
   "pygments_lexer": "ipython3",
   "version": "3.6.3"
  }
 },
 "nbformat": 4,
 "nbformat_minor": 2
}
